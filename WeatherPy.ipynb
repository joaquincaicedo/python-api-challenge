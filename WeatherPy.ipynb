{
 "cells": [
  {
   "cell_type": "markdown",
   "metadata": {},
   "source": [
    "# WeatherPy\n",
    "----\n",
    "\n",
    "#### Note\n",
    "* Instructions have been included for each segment. You do not have to follow them exactly, but they are included to help you think through the steps."
   ]
  },
  {
   "cell_type": "code",
   "execution_count": 1,
   "metadata": {
    "scrolled": true
   },
   "outputs": [],
   "source": [
    "# Dependencies and Setup\n",
    "import matplotlib.pyplot as plt\n",
    "import pandas as pd\n",
    "import numpy as np\n",
    "import requests\n",
    "import time\n",
    "from scipy.stats import linregress\n",
    "\n",
    "# Import API key\n",
    "from api_keys import weather_api_key\n",
    "\n",
    "# Incorporated citipy to determine city based on latitude and longitude\n",
    "from citipy import citipy\n",
    "\n",
    "# Output File (CSV)\n",
    "output_data_file = \"output_data/cities.csv\"\n",
    "\n",
    "# Range of latitudes and longitudes\n",
    "lat_range = (-90, 90)\n",
    "lng_range = (-180, 180)"
   ]
  },
  {
   "cell_type": "code",
   "execution_count": 2,
   "metadata": {},
   "outputs": [],
   "source": [
    "#API Url\n",
    "url = \"http://api.openweathermap.org/data/2.5/weather?\"\n",
    "units = \"metric\"\n",
    "query_url = f\"{url}appid={weather_api_key}&units={units}&q=\" "
   ]
  },
  {
   "cell_type": "markdown",
   "metadata": {},
   "source": [
    "## Generate Cities List"
   ]
  },
  {
   "cell_type": "code",
   "execution_count": 3,
   "metadata": {},
   "outputs": [
    {
     "data": {
      "text/plain": [
       "602"
      ]
     },
     "execution_count": 3,
     "metadata": {},
     "output_type": "execute_result"
    }
   ],
   "source": [
    "# List for holding lat_lngs and cities\n",
    "lat_lngs = []\n",
    "cities = []\n",
    "\n",
    "# Create a set of random lat and lng combinations\n",
    "lats = np.random.uniform(low=-90.000, high=90.000, size=1500)\n",
    "lngs = np.random.uniform(low=-180.000, high=180.000, size=1500)\n",
    "lat_lngs = zip(lats, lngs)\n",
    "\n",
    "# Identify nearest city for each lat, lng combination\n",
    "for lat_lng in lat_lngs:\n",
    "    city = citipy.nearest_city(lat_lng[0], lat_lng[1]).city_name\n",
    "    \n",
    "    # If the city is unique, then add it to a our cities list\n",
    "    if city not in cities:\n",
    "        cities.append(city)\n",
    "\n",
    "# Print the city count to confirm sufficient count\n",
    "len(cities)"
   ]
  },
  {
   "cell_type": "code",
   "execution_count": 4,
   "metadata": {},
   "outputs": [
    {
     "data": {
      "text/html": [
       "<div>\n",
       "<style scoped>\n",
       "    .dataframe tbody tr th:only-of-type {\n",
       "        vertical-align: middle;\n",
       "    }\n",
       "\n",
       "    .dataframe tbody tr th {\n",
       "        vertical-align: top;\n",
       "    }\n",
       "\n",
       "    .dataframe thead th {\n",
       "        text-align: right;\n",
       "    }\n",
       "</style>\n",
       "<table border=\"1\" class=\"dataframe\">\n",
       "  <thead>\n",
       "    <tr style=\"text-align: right;\">\n",
       "      <th></th>\n",
       "      <th>City</th>\n",
       "      <th>Cloudiness</th>\n",
       "      <th>Country</th>\n",
       "      <th>Date</th>\n",
       "      <th>Humidity</th>\n",
       "      <th>Lat</th>\n",
       "      <th>Lng</th>\n",
       "      <th>Max Temp</th>\n",
       "      <th>Wind Speed</th>\n",
       "    </tr>\n",
       "  </thead>\n",
       "  <tbody>\n",
       "    <tr>\n",
       "      <td>0</td>\n",
       "      <td>Ancud</td>\n",
       "      <td>40</td>\n",
       "      <td>CL</td>\n",
       "      <td>1580084616</td>\n",
       "      <td>59</td>\n",
       "      <td>-41.87</td>\n",
       "      <td>-73.82</td>\n",
       "      <td>18</td>\n",
       "      <td>2.6</td>\n",
       "    </tr>\n",
       "    <tr>\n",
       "      <td>1</td>\n",
       "      <td>Port Augusta</td>\n",
       "      <td>75</td>\n",
       "      <td>AU</td>\n",
       "      <td>1580118923</td>\n",
       "      <td>82</td>\n",
       "      <td>-32.5</td>\n",
       "      <td>137.77</td>\n",
       "      <td>20</td>\n",
       "      <td>4.6</td>\n",
       "    </tr>\n",
       "    <tr>\n",
       "      <td>2</td>\n",
       "      <td>Port Hardy</td>\n",
       "      <td>75</td>\n",
       "      <td>CA</td>\n",
       "      <td>1580087401</td>\n",
       "      <td>81</td>\n",
       "      <td>50.7</td>\n",
       "      <td>-127.42</td>\n",
       "      <td>9</td>\n",
       "      <td>3.6</td>\n",
       "    </tr>\n",
       "    <tr>\n",
       "      <td>3</td>\n",
       "      <td>Punta Arenas</td>\n",
       "      <td>20</td>\n",
       "      <td>CL</td>\n",
       "      <td>1580086239</td>\n",
       "      <td>47</td>\n",
       "      <td>-53.15</td>\n",
       "      <td>-70.92</td>\n",
       "      <td>14</td>\n",
       "      <td>12.9</td>\n",
       "    </tr>\n",
       "    <tr>\n",
       "      <td>4</td>\n",
       "      <td>Arraial do Cabo</td>\n",
       "      <td>0</td>\n",
       "      <td>BR</td>\n",
       "      <td>1580074649</td>\n",
       "      <td>69</td>\n",
       "      <td>-22.97</td>\n",
       "      <td>-42.03</td>\n",
       "      <td>27</td>\n",
       "      <td>5.7</td>\n",
       "    </tr>\n",
       "  </tbody>\n",
       "</table>\n",
       "</div>"
      ],
      "text/plain": [
       "              City Cloudiness Country        Date Humidity    Lat     Lng  \\\n",
       "0            Ancud         40      CL  1580084616       59 -41.87  -73.82   \n",
       "1     Port Augusta         75      AU  1580118923       82  -32.5  137.77   \n",
       "2       Port Hardy         75      CA  1580087401       81   50.7 -127.42   \n",
       "3     Punta Arenas         20      CL  1580086239       47 -53.15  -70.92   \n",
       "4  Arraial do Cabo          0      BR  1580074649       69 -22.97  -42.03   \n",
       "\n",
       "  Max Temp Wind Speed  \n",
       "0       18        2.6  \n",
       "1       20        4.6  \n",
       "2        9        3.6  \n",
       "3       14       12.9  \n",
       "4       27        5.7  "
      ]
     },
     "execution_count": 4,
     "metadata": {},
     "output_type": "execute_result"
    }
   ],
   "source": [
    "city_data = pd.DataFrame(columns=['City', 'Cloudiness', 'Country', 'Date', 'Humidity', 'Lat', 'Lng', 'Max Temp', 'Wind Speed'])\n",
    "for city  in cities:\n",
    "    try:\n",
    "        #city_url = weather_base_url  + \"&q=\" + city\n",
    "        response = requests.get(query_url + city).json()\n",
    "        city_data.loc[city,'City'] = response['name']\n",
    "        city_data.loc[city,'Cloudiness'] = response['clouds']['all']\n",
    "        city_data.loc[city,'Country'] = response['sys']['country']\n",
    "        city_data.loc[city,'Date'] = response['sys']['sunset']\n",
    "        city_data.loc[city,'Humidity'] = response['main']['humidity']\n",
    "        city_data.loc[city,'Lat'] = response['coord']['lat']\n",
    "        city_data.loc[city,'Lng'] = response['coord']['lon']\n",
    "        city_data.loc[city,'Max Temp'] = response['main']['temp_max']\n",
    "        city_data.loc[city,'Wind Speed'] = response['wind']['speed']\n",
    "    except: KeyError\n",
    "    pass\n",
    "city_data = city_data.reset_index()\n",
    "del city_data['index']\n",
    "city_data.to_csv ('city_data.csv', index = None, header=True)\n",
    "city_data.head()"
   ]
  },
  {
   "cell_type": "code",
   "execution_count": null,
   "metadata": {},
   "outputs": [],
   "source": [
    "#Plotting Data Lat vs Temp\n",
    "title = f\"City Latitude vs Max Temperature\"\n",
    "plt.scatter(city_data[\"Lat\"], city_data[\"Max Temp\"], marker = \"o\", color=\"red\")\n",
    "plt.title(title, size=15)\n",
    "plt.xlabel(\"Latitude\")\n",
    "plt.ylabel(\"Max Temperature (C)\")\n",
    "plt.grid(True)\n",
    "plt.savefig(f\"{title}.png\")"
   ]
  },
  {
   "cell_type": "code",
   "execution_count": null,
   "metadata": {},
   "outputs": [],
   "source": [
    "#Plotting Data Lat vs Humidity\n",
    "title = \"City Latitude vs Humidity\"\n",
    "plt.scatter(city_data[\"Lat\"], city_data[\"Humidity\"], marker = \"o\", color=\"red\")\n",
    "plt.title(title, size=15)\n",
    "plt.xlabel(\"Latitude\")\n",
    "plt.ylabel(\"Humidity (%)\")\n",
    "plt.grid(True)\n",
    "plt.savefig(f\"{title}.png\")"
   ]
  },
  {
   "cell_type": "code",
   "execution_count": null,
   "metadata": {},
   "outputs": [],
   "source": [
    "#Plotting Data Lat vs Cloudiness\n",
    "title = \"City Latitude vs Cloudiness\"\n",
    "plt.scatter(city_data[\"Lat\"], city_data[\"Cloudiness\"], marker = \"o\", color=\"red\")\n",
    "plt.title(title, size=15)\n",
    "plt.xlabel(\"Latitude\")\n",
    "plt.ylabel(\"Cloudiness (%)\")\n",
    "plt.grid(True)\n",
    "plt.savefig(f\"{title}.png\")"
   ]
  },
  {
   "cell_type": "code",
   "execution_count": null,
   "metadata": {},
   "outputs": [],
   "source": [
    "#Plotting Data Lat vs Wind Speed\n",
    "title = \"City Latitude vs Wind Speed\"\n",
    "plt.scatter(city_data[\"Lat\"], city_data[\"Wind Speed\"], marker = \"o\", color=\"red\")\n",
    "plt.title(title, size=15)\n",
    "plt.xlabel(\"Latitude\")\n",
    "plt.ylabel(\"Wind Speed (kph)\")\n",
    "plt.grid(True)\n",
    "plt.savefig(f\"{title}.png\")"
   ]
  },
  {
   "cell_type": "code",
   "execution_count": null,
   "metadata": {},
   "outputs": [],
   "source": [
    "#North/South Regression\n",
    "city_data_north = city_data.drop(city_data[city_data[\"Lat\"] <= 0].index)\n",
    "city_data_south = city_data.drop(city_data[city_data[\"Lat\"] > 0].index)"
   ]
  },
  {
   "cell_type": "code",
   "execution_count": null,
   "metadata": {},
   "outputs": [],
   "source": [
    "#North Hem. Stats\n",
    "title = \"North Hem.  Temp vs Latitude Linear Regression\"\n",
    "x = city_data_north[\"Max Temp\"]\n",
    "y = city_data_north[\"Lat\"]\n",
    "slope, intercept, r_value, p_value, std_err = linregress(x.astype(float), y.astype(float))\n",
    "regress_values = x * slope + intercept\n",
    "line_eq = \"y = \" + str(round(slope,2)) + \"x + \" + str(round(intercept,2))\n",
    "plt.scatter(x,y)\n",
    "plt.plot(x,regress_values,\"r-\")\n",
    "plt.annotate(line_eq,(0,-40),fontsize=15,color=\"red\")\n",
    "plt.title(title)\n",
    "plt.xlabel('Latitude')\n",
    "plt.ylabel(\"Temperature (C)\")\n",
    "plt.savefig(f\"{title}.png\")\n",
    "print(f\"The r-squared is: {r_value}\")\n",
    "plt.show()"
   ]
  },
  {
   "cell_type": "code",
   "execution_count": null,
   "metadata": {},
   "outputs": [],
   "source": [
    "#North Hem. Stats\n",
    "title = \"North Hem.  Humidity vs Lat Linear Regression\"\n",
    "x = city_data_north[\"Humidity\"]\n",
    "y = city_data_north[\"Lat\"]\n",
    "slope, intercept, r_value, p_value, std_err = linregress(x.astype(float), y.astype(float))\n",
    "regress_values = x * slope + intercept\n",
    "line_eq = \"y = \" + str(round(slope,2)) + \"x + \" + str(round(intercept,2))\n",
    "plt.scatter(x,y)\n",
    "plt.plot(x,regress_values,\"r-\")\n",
    "plt.annotate(line_eq,(0,-40),fontsize=15,color=\"red\")\n",
    "plt.title(title)\n",
    "plt.xlabel('Latitude')\n",
    "plt.ylabel(\"Temperature (C)\")\n",
    "plt.savefig(f\"{title}.png\")\n",
    "print(f\"The r-squared is: {r_value}\")\n",
    "plt.show()"
   ]
  },
  {
   "cell_type": "code",
   "execution_count": null,
   "metadata": {},
   "outputs": [],
   "source": [
    "#North Hem. Stats\n",
    "title = \"North Hem.  Cloudiness vs Lat Linear Regression\"\n",
    "x = city_data_north[\"Cloudiness\"]\n",
    "y = city_data_north[\"Lat\"]\n",
    "slope, intercept, r_value, p_value, std_err = linregress(x.astype(float), y.astype(float))\n",
    "regress_values = x * slope + intercept\n",
    "line_eq = \"y = \" + str(round(slope,2)) + \"x + \" + str(round(intercept,2))\n",
    "plt.scatter(x,y)\n",
    "plt.plot(x,regress_values,\"r-\")\n",
    "plt.annotate(line_eq,(0,-40),fontsize=15,color=\"red\")\n",
    "plt.title(title)\n",
    "plt.xlabel('Latitude')\n",
    "plt.ylabel(\"Temperature (C)\")\n",
    "plt.savefig(f\"{title}.png\")\n",
    "print(f\"The r-squared is: {r_value}\")\n",
    "plt.show()"
   ]
  },
  {
   "cell_type": "code",
   "execution_count": null,
   "metadata": {},
   "outputs": [],
   "source": [
    "#North Hem. Stats\n",
    "title = \"North Hem.  Wind Speed vs Lat Linear Regression\"\n",
    "x = city_data_north[\"Wind Speed\"]\n",
    "y = city_data_north[\"Lat\"]\n",
    "slope, intercept, r_value, p_value, std_err = linregress(x.astype(float), y.astype(float))\n",
    "regress_values = x * slope + intercept\n",
    "line_eq = \"y = \" + str(round(slope,2)) + \"x + \" + str(round(intercept,2))\n",
    "plt.scatter(x,y)\n",
    "plt.plot(x,regress_values,\"r-\")\n",
    "plt.annotate(line_eq,(0,-40),fontsize=15,color=\"red\")\n",
    "plt.title(title)\n",
    "plt.xlabel('Latitude')\n",
    "plt.ylabel(\"Temperature (C)\")\n",
    "plt.savefig(f\"{title}.png\")\n",
    "print(f\"The r-squared is: {r_value}\")\n",
    "plt.show()"
   ]
  },
  {
   "cell_type": "code",
   "execution_count": null,
   "metadata": {},
   "outputs": [],
   "source": [
    "#South Hem. Stats\n",
    "title = \"South Hem.  Temperature vs Lat Linear Regression\"\n",
    "x = city_data_south[\"Lat\"]\n",
    "y = city_data_south[\"Max Temp\"]\n",
    "slope, intercept, r_value, p_value, std_err = linregress(x.astype(float), y.astype(float))\n",
    "regress_values = x * slope + intercept\n",
    "line_eq = \"y = \" + str(round(slope,2)) + \"x + \" + str(round(intercept,2))\n",
    "plt.scatter(x,y)\n",
    "plt.plot(x,regress_values,\"r-\")\n",
    "plt.annotate(line_eq,(0,-40),fontsize=15,color=\"red\")\n",
    "plt.title(title)\n",
    "plt.xlabel('Latitude')\n",
    "plt.ylabel(\"Temperature (C)\")\n",
    "plt.savefig(f\"{title}.png\")\n",
    "print(f\"The r-squared is: {r_value}\")\n",
    "plt.show()"
   ]
  },
  {
   "cell_type": "code",
   "execution_count": null,
   "metadata": {},
   "outputs": [],
   "source": [
    "#South Hem. Stats\n",
    "title = \"South Hem.  Humidity vs Lat Linear Regression\"\n",
    "x = city_data_south[\"Lat\"]\n",
    "y = city_data_south[\"Humidity\"]\n",
    "slope, intercept, r_value, p_value, std_err = linregress(x.astype(float), y.astype(float))\n",
    "regress_values = x * slope + intercept\n",
    "line_eq = \"y = \" + str(round(slope,2)) + \"x + \" + str(round(intercept,2))\n",
    "plt.scatter(x,y)\n",
    "plt.plot(x,regress_values,\"r-\")\n",
    "plt.annotate(line_eq,(0,-40),fontsize=15,color=\"red\")\n",
    "plt.title(title)\n",
    "plt.xlabel('Latitude')\n",
    "plt.ylabel(\"Temperature (C)\")\n",
    "plt.savefig(f\"{title}.png\")\n",
    "print(f\"The r-squared is: {r_value}\")\n",
    "plt.show()"
   ]
  },
  {
   "cell_type": "code",
   "execution_count": null,
   "metadata": {},
   "outputs": [],
   "source": [
    "#South Hem. Stats\n",
    "title = \"South Hem.  Cloudiness vs Lat Linear Regression\"\n",
    "x = city_data_south[\"Lat\"]\n",
    "y = city_data_south[\"Cloudiness\"]\n",
    "slope, intercept, r_value, p_value, std_err = linregress(x.astype(float), y.astype(float))\n",
    "regress_values = x * slope + intercept\n",
    "line_eq = \"y = \" + str(round(slope,2)) + \"x + \" + str(round(intercept,2))\n",
    "plt.scatter(x,y)\n",
    "plt.plot(x,regress_values,\"r-\")\n",
    "plt.annotate(line_eq,(0,-40),fontsize=15,color=\"red\")\n",
    "plt.title(title)\n",
    "plt.xlabel('Latitude')\n",
    "plt.ylabel(\"Temperature (C)\")\n",
    "plt.savefig(f\"{title}.png\")\n",
    "print(f\"The r-squared is: {r_value}\")\n",
    "plt.show()"
   ]
  },
  {
   "cell_type": "code",
   "execution_count": null,
   "metadata": {},
   "outputs": [],
   "source": [
    "#South Hem. Stats\n",
    "title = \"South Hem.  Wind Speed vs Lat Linear Regression\"\n",
    "x = city_data_south[\"Lat\"]\n",
    "y = city_data_south[\"Wind Speed\"]\n",
    "slope, intercept, r_value, p_value, std_err = linregress(x.astype(float), y.astype(float))\n",
    "regress_values = x * slope + intercept\n",
    "line_eq = \"y = \" + str(round(slope,2)) + \"x + \" + str(round(intercept,2))\n",
    "plt.scatter(x,y)\n",
    "plt.plot(x,regress_values,\"r-\")\n",
    "plt.annotate(line_eq,(0,-40),fontsize=15,color=\"red\")\n",
    "plt.title(title)\n",
    "plt.xlabel('Latitude')\n",
    "plt.ylabel(\"Temperature (C)\")\n",
    "plt.savefig(f\"{title}.png\")\n",
    "print(f\"The r-squared is: {r_value}\")\n",
    "plt.show()"
   ]
  }
 ],
 "metadata": {
  "anaconda-cloud": {},
  "kernel_info": {
   "name": "python3"
  },
  "kernelspec": {
   "display_name": "Python 3",
   "language": "python",
   "name": "python3"
  },
  "language_info": {
   "codemirror_mode": {
    "name": "ipython",
    "version": 3
   },
   "file_extension": ".py",
   "mimetype": "text/x-python",
   "name": "python",
   "nbconvert_exporter": "python",
   "pygments_lexer": "ipython3",
   "version": "3.7.4"
  },
  "latex_envs": {
   "LaTeX_envs_menu_present": true,
   "autoclose": false,
   "autocomplete": true,
   "bibliofile": "biblio.bib",
   "cite_by": "apalike",
   "current_citInitial": 1,
   "eqLabelWithNumbers": true,
   "eqNumInitial": 1,
   "hotkeys": {
    "equation": "Ctrl-E",
    "itemize": "Ctrl-I"
   },
   "labels_anchors": false,
   "latex_user_defs": false,
   "report_style_numbering": false,
   "user_envs_cfg": false
  },
  "nteract": {
   "version": "0.12.3"
  }
 },
 "nbformat": 4,
 "nbformat_minor": 2
}
