{
 "cells": [
  {
   "cell_type": "markdown",
   "metadata": {},
   "source": [
    "# WeatherPy\n",
    "----\n",
    "\n",
    "#### Note\n",
    "* Instructions have been included for each segment. You do not have to follow them exactly, but they are included to help you think through the steps."
   ]
  },
  {
   "cell_type": "code",
   "execution_count": null,
   "metadata": {
    "scrolled": true
   },
   "outputs": [],
   "source": [
    "# Dependencies and Setup\n",
    "import matplotlib.pyplot as plt\n",
    "import pandas as pd\n",
    "import numpy as np\n",
    "import requests\n",
    "import time\n",
    "from scipy.stats import linregress\n",
    "\n",
    "# Import API key\n",
    "from api_keys import weather_api_key\n",
    "\n",
    "# Incorporated citipy to determine city based on latitude and longitude\n",
    "from citipy import citipy\n",
    "\n",
    "# Output File (CSV)\n",
    "output_data_file = \"output_data/cities.csv\"\n",
    "\n",
    "# Range of latitudes and longitudes\n",
    "lat_range = (-90, 90)\n",
    "lng_range = (-180, 180)"
   ]
  },
  {
   "cell_type": "code",
   "execution_count": null,
   "metadata": {},
   "outputs": [],
   "source": [
    "#API Url\n",
    "url = \"http://api.openweathermap.org/data/2.5/weather?\"\n",
    "units = \"metric\"\n",
    "query_url = f\"{url}appid={weather_api_key}&units={units}&q=\" "
   ]
  },
  {
   "cell_type": "markdown",
   "metadata": {},
   "source": [
    "## Generate Cities List"
   ]
  },
  {
   "cell_type": "code",
   "execution_count": null,
   "metadata": {},
   "outputs": [],
   "source": [
    "# List for holding lat_lngs and cities\n",
    "lat_lngs = []\n",
    "cities = []\n",
    "\n",
    "# Create a set of random lat and lng combinations\n",
    "lats = np.random.uniform(low=-90.000, high=90.000, size=1500)\n",
    "lngs = np.random.uniform(low=-180.000, high=180.000, size=1500)\n",
    "lat_lngs = zip(lats, lngs)\n",
    "\n",
    "# Identify nearest city for each lat, lng combination\n",
    "for lat_lng in lat_lngs:\n",
    "    city = citipy.nearest_city(lat_lng[0], lat_lng[1]).city_name\n",
    "    \n",
    "    # If the city is unique, then add it to a our cities list\n",
    "    if city not in cities:\n",
    "        cities.append(city)\n",
    "\n",
    "# Print the city count to confirm sufficient count\n",
    "len(cities)"
   ]
  },
  {
   "cell_type": "code",
   "execution_count": null,
   "metadata": {},
   "outputs": [],
   "source": [
    "city_data = pd.DataFrame(columns=['City', 'Cloudiness', 'Country', 'Date', 'Humidity', 'Lat', 'Lng', 'Max Temp', 'Wind Speed'])\n",
    "for city  in cities:\n",
    "    try:\n",
    "        #city_url = weather_base_url  + \"&q=\" + city\n",
    "        response = requests.get(query_url + city).json()\n",
    "        city_data.loc[city,'City'] = response['name']\n",
    "        city_data.loc[city,'Cloudiness'] = response['clouds']['all']\n",
    "        city_data.loc[city,'Country'] = response['sys']['country']\n",
    "        city_data.loc[city,'Date'] = response['sys']['sunset']\n",
    "        city_data.loc[city,'Humidity'] = response['main']['humidity']\n",
    "        city_data.loc[city,'Lat'] = response['coord']['lat']\n",
    "        city_data.loc[city,'Lng'] = response['coord']['lon']\n",
    "        city_data.loc[city,'Max Temp'] = response['main']['temp_max']\n",
    "        city_data.loc[city,'Wind Speed'] = response['wind']['speed']\n",
    "    except: KeyError\n",
    "    pass\n",
    "city_data = city_data.reset_index()\n",
    "del city_data['index']\n",
    "city_data.head()"
   ]
  },
  {
   "cell_type": "code",
   "execution_count": null,
   "metadata": {},
   "outputs": [],
   "source": [
    "#Plotting Data Lat vs Temp\n",
    "title = f\"City Latitude vs Max Temperature\"\n",
    "plt.scatter(city_data[\"Lat\"], city_data[\"Max Temp\"], marker = \"o\", color=\"red\")\n",
    "plt.title(title, size=15)\n",
    "plt.xlabel(\"Latitude\")\n",
    "plt.ylabel(\"Max Temperature (C)\")\n",
    "plt.grid(True)\n",
    "plt.savefig(f\"{title}.png\")"
   ]
  },
  {
   "cell_type": "code",
   "execution_count": null,
   "metadata": {},
   "outputs": [],
   "source": [
    "#Plotting Data Lat vs Humidity\n",
    "title = \"City Latitude vs Humidity\"\n",
    "plt.scatter(city_data[\"Lat\"], city_data[\"Humidity\"], marker = \"o\", color=\"red\")\n",
    "plt.title(title, size=15)\n",
    "plt.xlabel(\"Latitude\")\n",
    "plt.ylabel(\"Humidity (%)\")\n",
    "plt.grid(True)\n",
    "plt.savefig(f\"{title}.png\")"
   ]
  },
  {
   "cell_type": "code",
   "execution_count": null,
   "metadata": {},
   "outputs": [],
   "source": [
    "#Plotting Data Lat vs Cloudiness\n",
    "title = \"City Latitude vs Cloudiness\"\n",
    "plt.scatter(city_data[\"Lat\"], city_data[\"Cloudiness\"], marker = \"o\", color=\"red\")\n",
    "plt.title(title, size=15)\n",
    "plt.xlabel(\"Latitude\")\n",
    "plt.ylabel(\"Cloudiness (%)\")\n",
    "plt.grid(True)\n",
    "plt.savefig(f\"{title}.png\")"
   ]
  },
  {
   "cell_type": "code",
   "execution_count": null,
   "metadata": {},
   "outputs": [],
   "source": [
    "#Plotting Data Lat vs Wind Speed\n",
    "title = \"City Latitude vs Wind Speed\"\n",
    "plt.scatter(city_data[\"Lat\"], city_data[\"Wind Speed\"], marker = \"o\", color=\"red\")\n",
    "plt.title(title, size=15)\n",
    "plt.xlabel(\"Latitude\")\n",
    "plt.ylabel(\"Wind Speed (kph)\")\n",
    "plt.grid(True)\n",
    "plt.savefig(f\"{title}.png\")"
   ]
  },
  {
   "cell_type": "code",
   "execution_count": null,
   "metadata": {},
   "outputs": [],
   "source": [
    "#North/South Regression\n",
    "city_data_north = city_data.drop(city_data[city_data[\"Lat\"] <= 0].index)\n",
    "city_data_south = city_data.drop(city_data[city_data[\"Lat\"] > 0].index)"
   ]
  },
  {
   "cell_type": "code",
   "execution_count": null,
   "metadata": {},
   "outputs": [],
   "source": [
    "#North Hem. Stats\n",
    "title = \"North Hem.  Temp vs Latitude Linear Regression\"\n",
    "x = city_data_north[\"Max Temp\"]\n",
    "y = city_data_north[\"Lat\"]\n",
    "slope, intercept, r_value, p_value, std_err = linregress(x.astype(float), y.astype(float))\n",
    "regress_values = x * slope + intercept\n",
    "line_eq = \"y = \" + str(round(slope,2)) + \"x + \" + str(round(intercept,2))\n",
    "plt.scatter(x,y)\n",
    "plt.plot(x,regress_values,\"r-\")\n",
    "plt.annotate(line_eq,(0,-40),fontsize=15,color=\"red\")\n",
    "plt.title(title)\n",
    "plt.xlabel('Latitude')\n",
    "plt.ylabel(\"Temperature (C)\")\n",
    "plt.savefig(f\"{title}.png\")\n",
    "print(f\"The r-squared is: {r_value}\")\n",
    "plt.show()"
   ]
  },
  {
   "cell_type": "code",
   "execution_count": null,
   "metadata": {},
   "outputs": [],
   "source": [
    "#North Hem. Stats\n",
    "title = \"North Hem.  Humidity vs Lat Linear Regression\"\n",
    "x = city_data_north[\"Humidity\"]\n",
    "y = city_data_north[\"Lat\"]\n",
    "slope, intercept, r_value, p_value, std_err = linregress(x.astype(float), y.astype(float))\n",
    "regress_values = x * slope + intercept\n",
    "line_eq = \"y = \" + str(round(slope,2)) + \"x + \" + str(round(intercept,2))\n",
    "plt.scatter(x,y)\n",
    "plt.plot(x,regress_values,\"r-\")\n",
    "plt.annotate(line_eq,(0,-40),fontsize=15,color=\"red\")\n",
    "plt.title(title)\n",
    "plt.xlabel('Latitude')\n",
    "plt.ylabel(\"Temperature (C)\")\n",
    "plt.savefig(f\"{title}.png\")\n",
    "print(f\"The r-squared is: {r_value}\")\n",
    "plt.show()"
   ]
  },
  {
   "cell_type": "code",
   "execution_count": null,
   "metadata": {},
   "outputs": [],
   "source": [
    "#North Hem. Stats\n",
    "title = \"North Hem.  Cloudiness vs Lat Linear Regression\"\n",
    "x = city_data_north[\"Cloudiness\"]\n",
    "y = city_data_north[\"Lat\"]\n",
    "slope, intercept, r_value, p_value, std_err = linregress(x.astype(float), y.astype(float))\n",
    "regress_values = x * slope + intercept\n",
    "line_eq = \"y = \" + str(round(slope,2)) + \"x + \" + str(round(intercept,2))\n",
    "plt.scatter(x,y)\n",
    "plt.plot(x,regress_values,\"r-\")\n",
    "plt.annotate(line_eq,(0,-40),fontsize=15,color=\"red\")\n",
    "plt.title(title)\n",
    "plt.xlabel('Latitude')\n",
    "plt.ylabel(\"Temperature (C)\")\n",
    "plt.savefig(f\"{title}.png\")\n",
    "print(f\"The r-squared is: {r_value}\")\n",
    "plt.show()"
   ]
  },
  {
   "cell_type": "code",
   "execution_count": null,
   "metadata": {},
   "outputs": [],
   "source": [
    "#North Hem. Stats\n",
    "title = \"North Hem.  Wind Speed vs Lat Linear Regression\"\n",
    "x = city_data_north[\"Wind Speed\"]\n",
    "y = city_data_north[\"Lat\"]\n",
    "slope, intercept, r_value, p_value, std_err = linregress(x.astype(float), y.astype(float))\n",
    "regress_values = x * slope + intercept\n",
    "line_eq = \"y = \" + str(round(slope,2)) + \"x + \" + str(round(intercept,2))\n",
    "plt.scatter(x,y)\n",
    "plt.plot(x,regress_values,\"r-\")\n",
    "plt.annotate(line_eq,(0,-40),fontsize=15,color=\"red\")\n",
    "plt.title(title)\n",
    "plt.xlabel('Latitude')\n",
    "plt.ylabel(\"Temperature (C)\")\n",
    "plt.savefig(f\"{title}.png\")\n",
    "print(f\"The r-squared is: {r_value}\")\n",
    "plt.show()"
   ]
  },
  {
   "cell_type": "code",
   "execution_count": null,
   "metadata": {},
   "outputs": [],
   "source": [
    "#South Hem. Stats\n",
    "title = \"South Hem.  Temperature vs Lat Linear Regression\"\n",
    "x = city_data_south[\"Lat\"]\n",
    "y = city_data_south[\"Max Temp\"]\n",
    "slope, intercept, r_value, p_value, std_err = linregress(x.astype(float), y.astype(float))\n",
    "regress_values = x * slope + intercept\n",
    "line_eq = \"y = \" + str(round(slope,2)) + \"x + \" + str(round(intercept,2))\n",
    "plt.scatter(x,y)\n",
    "plt.plot(x,regress_values,\"r-\")\n",
    "plt.annotate(line_eq,(0,-40),fontsize=15,color=\"red\")\n",
    "plt.title(title)\n",
    "plt.xlabel('Latitude')\n",
    "plt.ylabel(\"Temperature (C)\")\n",
    "plt.savefig(f\"{title}.png\")\n",
    "print(f\"The r-squared is: {r_value}\")\n",
    "plt.show()"
   ]
  },
  {
   "cell_type": "code",
   "execution_count": null,
   "metadata": {},
   "outputs": [],
   "source": [
    "#South Hem. Stats\n",
    "title = \"South Hem.  Humidity vs Lat Linear Regression\"\n",
    "x = city_data_south[\"Lat\"]\n",
    "y = city_data_south[\"Humidity\"]\n",
    "slope, intercept, r_value, p_value, std_err = linregress(x.astype(float), y.astype(float))\n",
    "regress_values = x * slope + intercept\n",
    "line_eq = \"y = \" + str(round(slope,2)) + \"x + \" + str(round(intercept,2))\n",
    "plt.scatter(x,y)\n",
    "plt.plot(x,regress_values,\"r-\")\n",
    "plt.annotate(line_eq,(0,-40),fontsize=15,color=\"red\")\n",
    "plt.title(title)\n",
    "plt.xlabel('Latitude')\n",
    "plt.ylabel(\"Temperature (C)\")\n",
    "plt.savefig(f\"{title}.png\")\n",
    "print(f\"The r-squared is: {r_value}\")\n",
    "plt.show()"
   ]
  },
  {
   "cell_type": "code",
   "execution_count": null,
   "metadata": {},
   "outputs": [],
   "source": [
    "#South Hem. Stats\n",
    "title = \"South Hem.  Cloudiness vs Lat Linear Regression\"\n",
    "x = city_data_south[\"Lat\"]\n",
    "y = city_data_south[\"Cloudiness\"]\n",
    "slope, intercept, r_value, p_value, std_err = linregress(x.astype(float), y.astype(float))\n",
    "regress_values = x * slope + intercept\n",
    "line_eq = \"y = \" + str(round(slope,2)) + \"x + \" + str(round(intercept,2))\n",
    "plt.scatter(x,y)\n",
    "plt.plot(x,regress_values,\"r-\")\n",
    "plt.annotate(line_eq,(0,-40),fontsize=15,color=\"red\")\n",
    "plt.title(title)\n",
    "plt.xlabel('Latitude')\n",
    "plt.ylabel(\"Temperature (C)\")\n",
    "plt.savefig(f\"{title}.png\")\n",
    "print(f\"The r-squared is: {r_value}\")\n",
    "plt.show()"
   ]
  },
  {
   "cell_type": "code",
   "execution_count": null,
   "metadata": {},
   "outputs": [],
   "source": [
    "#South Hem. Stats\n",
    "title = \"South Hem.  Wind Speed vs Lat Linear Regression\"\n",
    "x = city_data_south[\"Lat\"]\n",
    "y = city_data_south[\"Wind Speed\"]\n",
    "slope, intercept, r_value, p_value, std_err = linregress(x.astype(float), y.astype(float))\n",
    "regress_values = x * slope + intercept\n",
    "line_eq = \"y = \" + str(round(slope,2)) + \"x + \" + str(round(intercept,2))\n",
    "plt.scatter(x,y)\n",
    "plt.plot(x,regress_values,\"r-\")\n",
    "plt.annotate(line_eq,(0,-40),fontsize=15,color=\"red\")\n",
    "plt.title(title)\n",
    "plt.xlabel('Latitude')\n",
    "plt.ylabel(\"Temperature (C)\")\n",
    "plt.savefig(f\"{title}.png\")\n",
    "print(f\"The r-squared is: {r_value}\")\n",
    "plt.show()"
   ]
  }
 ],
 "metadata": {
  "anaconda-cloud": {},
  "kernel_info": {
   "name": "python3"
  },
  "kernelspec": {
   "display_name": "Python 3",
   "language": "python",
   "name": "python3"
  },
  "language_info": {
   "codemirror_mode": {
    "name": "ipython",
    "version": 3
   },
   "file_extension": ".py",
   "mimetype": "text/x-python",
   "name": "python",
   "nbconvert_exporter": "python",
   "pygments_lexer": "ipython3",
   "version": "3.7.4"
  },
  "latex_envs": {
   "LaTeX_envs_menu_present": true,
   "autoclose": false,
   "autocomplete": true,
   "bibliofile": "biblio.bib",
   "cite_by": "apalike",
   "current_citInitial": 1,
   "eqLabelWithNumbers": true,
   "eqNumInitial": 1,
   "hotkeys": {
    "equation": "Ctrl-E",
    "itemize": "Ctrl-I"
   },
   "labels_anchors": false,
   "latex_user_defs": false,
   "report_style_numbering": false,
   "user_envs_cfg": false
  },
  "nteract": {
   "version": "0.12.3"
  }
 },
 "nbformat": 4,
 "nbformat_minor": 2
}
