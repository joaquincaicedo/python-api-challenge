{
 "cells": [
  {
   "cell_type": "markdown",
   "metadata": {},
   "source": [
    "# VacationPy\n",
    "----\n",
    "\n",
    "#### Note\n",
    "* Instructions have been included for each segment. You do not have to follow them exactly, but they are included to help you think through the steps."
   ]
  },
  {
   "cell_type": "code",
   "execution_count": 1,
   "metadata": {},
   "outputs": [],
   "source": [
    "# Dependencies and Setup\n",
    "import matplotlib.pyplot as plt\n",
    "import pandas as pd\n",
    "import numpy as np\n",
    "import requests\n",
    "import gmaps\n",
    "import os\n",
    "\n",
    "# Import API key\n",
    "from api_keys import g_key\n"
   ]
  },
  {
   "cell_type": "markdown",
   "metadata": {},
   "source": [
    "### Store Part I results into DataFrame\n",
    "* Load the csv exported in Part I to a DataFrame"
   ]
  },
  {
   "cell_type": "code",
   "execution_count": 2,
   "metadata": {},
   "outputs": [
    {
     "data": {
      "text/html": [
       "<div>\n",
       "<style scoped>\n",
       "    .dataframe tbody tr th:only-of-type {\n",
       "        vertical-align: middle;\n",
       "    }\n",
       "\n",
       "    .dataframe tbody tr th {\n",
       "        vertical-align: top;\n",
       "    }\n",
       "\n",
       "    .dataframe thead th {\n",
       "        text-align: right;\n",
       "    }\n",
       "</style>\n",
       "<table border=\"1\" class=\"dataframe\">\n",
       "  <thead>\n",
       "    <tr style=\"text-align: right;\">\n",
       "      <th></th>\n",
       "      <th>City</th>\n",
       "      <th>Cloudiness</th>\n",
       "      <th>Country</th>\n",
       "      <th>Date</th>\n",
       "      <th>Humidity</th>\n",
       "      <th>Lat</th>\n",
       "      <th>Lng</th>\n",
       "      <th>Max Temp</th>\n",
       "      <th>Wind Speed</th>\n",
       "    </tr>\n",
       "  </thead>\n",
       "  <tbody>\n",
       "    <tr>\n",
       "      <th>0</th>\n",
       "      <td>Cayenne</td>\n",
       "      <td>75</td>\n",
       "      <td>GF</td>\n",
       "      <td>1580074704</td>\n",
       "      <td>94</td>\n",
       "      <td>4.93</td>\n",
       "      <td>-52.33</td>\n",
       "      <td>77.00</td>\n",
       "      <td>4.70</td>\n",
       "    </tr>\n",
       "    <tr>\n",
       "      <th>1</th>\n",
       "      <td>Andenes</td>\n",
       "      <td>100</td>\n",
       "      <td>NO</td>\n",
       "      <td>1580044204</td>\n",
       "      <td>62</td>\n",
       "      <td>69.31</td>\n",
       "      <td>16.12</td>\n",
       "      <td>21.20</td>\n",
       "      <td>23.04</td>\n",
       "    </tr>\n",
       "    <tr>\n",
       "      <th>2</th>\n",
       "      <td>Longyearbyen</td>\n",
       "      <td>0</td>\n",
       "      <td>SJ</td>\n",
       "      <td>0</td>\n",
       "      <td>77</td>\n",
       "      <td>78.22</td>\n",
       "      <td>15.64</td>\n",
       "      <td>1.40</td>\n",
       "      <td>1.12</td>\n",
       "    </tr>\n",
       "    <tr>\n",
       "      <th>3</th>\n",
       "      <td>Zhangjiakou</td>\n",
       "      <td>100</td>\n",
       "      <td>CN</td>\n",
       "      <td>1580117391</td>\n",
       "      <td>64</td>\n",
       "      <td>40.81</td>\n",
       "      <td>114.88</td>\n",
       "      <td>17.13</td>\n",
       "      <td>4.38</td>\n",
       "    </tr>\n",
       "    <tr>\n",
       "      <th>4</th>\n",
       "      <td>Port Alfred</td>\n",
       "      <td>28</td>\n",
       "      <td>ZA</td>\n",
       "      <td>1580059289</td>\n",
       "      <td>78</td>\n",
       "      <td>-33.59</td>\n",
       "      <td>26.89</td>\n",
       "      <td>64.00</td>\n",
       "      <td>7.00</td>\n",
       "    </tr>\n",
       "  </tbody>\n",
       "</table>\n",
       "</div>"
      ],
      "text/plain": [
       "           City  Cloudiness Country        Date  Humidity    Lat     Lng  \\\n",
       "0       Cayenne          75      GF  1580074704        94   4.93  -52.33   \n",
       "1       Andenes         100      NO  1580044204        62  69.31   16.12   \n",
       "2  Longyearbyen           0      SJ           0        77  78.22   15.64   \n",
       "3   Zhangjiakou         100      CN  1580117391        64  40.81  114.88   \n",
       "4   Port Alfred          28      ZA  1580059289        78 -33.59   26.89   \n",
       "\n",
       "   Max Temp  Wind Speed  \n",
       "0     77.00        4.70  \n",
       "1     21.20       23.04  \n",
       "2      1.40        1.12  \n",
       "3     17.13        4.38  \n",
       "4     64.00        7.00  "
      ]
     },
     "execution_count": 2,
     "metadata": {},
     "output_type": "execute_result"
    }
   ],
   "source": [
    "city_data = pd.read_csv('city_data.csv')\n",
    "city_data.head()"
   ]
  },
  {
   "cell_type": "markdown",
   "metadata": {},
   "source": [
    "### Humidity Heatmap\n",
    "* Configure gmaps.\n",
    "* Use the Lat and Lng as locations and Humidity as the weight.\n",
    "* Add Heatmap layer to map."
   ]
  },
  {
   "cell_type": "code",
   "execution_count": 3,
   "metadata": {},
   "outputs": [],
   "source": [
    "#Gmaps\n",
    "gmaps.configure(api_key = g_key)\n"
   ]
  },
  {
   "cell_type": "code",
   "execution_count": 4,
   "metadata": {},
   "outputs": [
    {
     "data": {
      "application/vnd.jupyter.widget-view+json": {
       "model_id": "5d02344b6aff4d2b894242c1f201095f",
       "version_major": 2,
       "version_minor": 0
      },
      "text/plain": [
       "Figure(layout=FigureLayout(height='420px'))"
      ]
     },
     "metadata": {},
     "output_type": "display_data"
    }
   ],
   "source": [
    "locations = city_data[['Lat', 'Lng']].astype(int)\n",
    "fig = gmaps.figure()\n",
    "heat_layer = gmaps.heatmap_layer(locations, weights = city_data['Humidity'], dissipating = False, \n",
    "                                 max_intensity = 100, point_radius = 1)\n",
    "fig.add_layer(heat_layer)\n",
    "fig"
   ]
  },
  {
   "cell_type": "markdown",
   "metadata": {},
   "source": [
    "### Create new DataFrame fitting weather criteria\n",
    "* Narrow down the cities to fit weather conditions.\n",
    "* Drop any rows will null values."
   ]
  },
  {
   "cell_type": "code",
   "execution_count": 5,
   "metadata": {},
   "outputs": [
    {
     "name": "stdout",
     "output_type": "stream",
     "text": [
      "What is the max cloudiness you wish?  0\n"
     ]
    }
   ],
   "source": [
    "#Cloudiness Filter\n",
    "#0\n",
    "cloudiness_wish = float(input('What is the max cloudiness you wish?  '))\n",
    "city_data = city_data.drop(city_data[city_data[\"Cloudiness\"] == cloudiness_wish].index)"
   ]
  },
  {
   "cell_type": "code",
   "execution_count": 6,
   "metadata": {},
   "outputs": [
    {
     "name": "stdout",
     "output_type": "stream",
     "text": [
      "What is the Max Temp you wish?  80\n"
     ]
    }
   ],
   "source": [
    "#Max Temp Filter\n",
    "#80\n",
    "max_temp_wish = float(input('What is the Max Temp you wish?  '))\n",
    "city_data = city_data.drop(city_data[city_data[\"Max Temp\"] > max_temp_wish].index)\n"
   ]
  },
  {
   "cell_type": "code",
   "execution_count": 7,
   "metadata": {},
   "outputs": [
    {
     "name": "stdout",
     "output_type": "stream",
     "text": [
      "What is the Min Temp you wish?  70\n"
     ]
    }
   ],
   "source": [
    "#Min Temp Filter\n",
    "#70\n",
    "min_temp_wish = float(input('What is the Min Temp you wish?  '))\n",
    "city_data = city_data.drop(city_data[city_data[\"Max Temp\"] <= min_temp_wish].index)\n"
   ]
  },
  {
   "cell_type": "code",
   "execution_count": 8,
   "metadata": {},
   "outputs": [
    {
     "name": "stdout",
     "output_type": "stream",
     "text": [
      "What is the Max Wind Speed you wish?  10\n"
     ]
    },
    {
     "data": {
      "text/html": [
       "<div>\n",
       "<style scoped>\n",
       "    .dataframe tbody tr th:only-of-type {\n",
       "        vertical-align: middle;\n",
       "    }\n",
       "\n",
       "    .dataframe tbody tr th {\n",
       "        vertical-align: top;\n",
       "    }\n",
       "\n",
       "    .dataframe thead th {\n",
       "        text-align: right;\n",
       "    }\n",
       "</style>\n",
       "<table border=\"1\" class=\"dataframe\">\n",
       "  <thead>\n",
       "    <tr style=\"text-align: right;\">\n",
       "      <th></th>\n",
       "      <th>City</th>\n",
       "      <th>Cloudiness</th>\n",
       "      <th>Country</th>\n",
       "      <th>Date</th>\n",
       "      <th>Humidity</th>\n",
       "      <th>Lat</th>\n",
       "      <th>Lng</th>\n",
       "      <th>Max Temp</th>\n",
       "      <th>Wind Speed</th>\n",
       "    </tr>\n",
       "  </thead>\n",
       "  <tbody>\n",
       "    <tr>\n",
       "      <th>0</th>\n",
       "      <td>Cayenne</td>\n",
       "      <td>75</td>\n",
       "      <td>GF</td>\n",
       "      <td>1580074704</td>\n",
       "      <td>94</td>\n",
       "      <td>4.93</td>\n",
       "      <td>-52.33</td>\n",
       "      <td>77.00</td>\n",
       "      <td>4.70</td>\n",
       "    </tr>\n",
       "    <tr>\n",
       "      <th>1</th>\n",
       "      <td>Palembang</td>\n",
       "      <td>91</td>\n",
       "      <td>ID</td>\n",
       "      <td>1580124053</td>\n",
       "      <td>94</td>\n",
       "      <td>-2.92</td>\n",
       "      <td>104.75</td>\n",
       "      <td>75.16</td>\n",
       "      <td>1.50</td>\n",
       "    </tr>\n",
       "    <tr>\n",
       "      <th>2</th>\n",
       "      <td>Bengkulu</td>\n",
       "      <td>70</td>\n",
       "      <td>ID</td>\n",
       "      <td>1580124720</td>\n",
       "      <td>88</td>\n",
       "      <td>-3.80</td>\n",
       "      <td>102.27</td>\n",
       "      <td>74.55</td>\n",
       "      <td>3.36</td>\n",
       "    </tr>\n",
       "    <tr>\n",
       "      <th>3</th>\n",
       "      <td>Kahului</td>\n",
       "      <td>20</td>\n",
       "      <td>US</td>\n",
       "      <td>1580098336</td>\n",
       "      <td>61</td>\n",
       "      <td>20.89</td>\n",
       "      <td>-156.47</td>\n",
       "      <td>78.80</td>\n",
       "      <td>9.17</td>\n",
       "    </tr>\n",
       "    <tr>\n",
       "      <th>4</th>\n",
       "      <td>Valparaiso</td>\n",
       "      <td>2</td>\n",
       "      <td>CL</td>\n",
       "      <td>1580082857</td>\n",
       "      <td>53</td>\n",
       "      <td>-33.04</td>\n",
       "      <td>-71.63</td>\n",
       "      <td>77.00</td>\n",
       "      <td>8.05</td>\n",
       "    </tr>\n",
       "  </tbody>\n",
       "</table>\n",
       "</div>"
      ],
      "text/plain": [
       "         City  Cloudiness Country        Date  Humidity    Lat     Lng  \\\n",
       "0     Cayenne          75      GF  1580074704        94   4.93  -52.33   \n",
       "1   Palembang          91      ID  1580124053        94  -2.92  104.75   \n",
       "2    Bengkulu          70      ID  1580124720        88  -3.80  102.27   \n",
       "3     Kahului          20      US  1580098336        61  20.89 -156.47   \n",
       "4  Valparaiso           2      CL  1580082857        53 -33.04  -71.63   \n",
       "\n",
       "   Max Temp  Wind Speed  \n",
       "0     77.00        4.70  \n",
       "1     75.16        1.50  \n",
       "2     74.55        3.36  \n",
       "3     78.80        9.17  \n",
       "4     77.00        8.05  "
      ]
     },
     "execution_count": 8,
     "metadata": {},
     "output_type": "execute_result"
    }
   ],
   "source": [
    "#Wind Speed Filter\n",
    "#10\n",
    "wind_speed_wish = float(input('What is the Max Wind Speed you wish?  '))\n",
    "city_data = city_data.drop(city_data[city_data[\"Wind Speed\"] >= wind_speed_wish].index)\n",
    "city_data.reset_index(inplace = True)\n",
    "del city_data['index']\n",
    "city_data.head()"
   ]
  },
  {
   "cell_type": "markdown",
   "metadata": {},
   "source": [
    "### Hotel Map\n",
    "* Store into variable named `hotel_df`.\n",
    "* Add a \"Hotel Name\" column to the DataFrame.\n",
    "* Set parameters to search for hotels with 5000 meters.\n",
    "* Hit the Google Places API for each city's coordinates.\n",
    "* Store the first Hotel result into the DataFrame.\n",
    "* Plot markers on top of the heatmap."
   ]
  },
  {
   "cell_type": "code",
   "execution_count": 16,
   "metadata": {},
   "outputs": [
    {
     "name": "stdout",
     "output_type": "stream",
     "text": [
      "Missing field/result...... Skipping.\n",
      "Missing field/result...... Skipping.\n",
      "Missing field/result...... Skipping.\n",
      "Missing field/result...... Skipping.\n",
      "Missing field/result...... Skipping.\n",
      "Missing field/result...... Skipping.\n"
     ]
    },
    {
     "data": {
      "text/html": [
       "<div>\n",
       "<style scoped>\n",
       "    .dataframe tbody tr th:only-of-type {\n",
       "        vertical-align: middle;\n",
       "    }\n",
       "\n",
       "    .dataframe tbody tr th {\n",
       "        vertical-align: top;\n",
       "    }\n",
       "\n",
       "    .dataframe thead th {\n",
       "        text-align: right;\n",
       "    }\n",
       "</style>\n",
       "<table border=\"1\" class=\"dataframe\">\n",
       "  <thead>\n",
       "    <tr style=\"text-align: right;\">\n",
       "      <th></th>\n",
       "      <th>City</th>\n",
       "      <th>Cloudiness</th>\n",
       "      <th>Country</th>\n",
       "      <th>Date</th>\n",
       "      <th>Humidity</th>\n",
       "      <th>Lat</th>\n",
       "      <th>Lng</th>\n",
       "      <th>Max Temp</th>\n",
       "      <th>Wind Speed</th>\n",
       "      <th>Hotel Name</th>\n",
       "      <th>Hotel</th>\n",
       "    </tr>\n",
       "  </thead>\n",
       "  <tbody>\n",
       "    <tr>\n",
       "      <th>0</th>\n",
       "      <td>Cayenne</td>\n",
       "      <td>75</td>\n",
       "      <td>GF</td>\n",
       "      <td>1580074704</td>\n",
       "      <td>94</td>\n",
       "      <td>4.93</td>\n",
       "      <td>-52.33</td>\n",
       "      <td>77.00</td>\n",
       "      <td>4.70</td>\n",
       "      <td>Hotel Central</td>\n",
       "      <td>Hotel Central</td>\n",
       "    </tr>\n",
       "    <tr>\n",
       "      <th>1</th>\n",
       "      <td>Palembang</td>\n",
       "      <td>91</td>\n",
       "      <td>ID</td>\n",
       "      <td>1580124053</td>\n",
       "      <td>94</td>\n",
       "      <td>-2.92</td>\n",
       "      <td>104.75</td>\n",
       "      <td>75.16</td>\n",
       "      <td>1.50</td>\n",
       "      <td>OYO 1299 Max To U Hotel</td>\n",
       "      <td>OYO 1299 Max To U Hotel</td>\n",
       "    </tr>\n",
       "    <tr>\n",
       "      <th>2</th>\n",
       "      <td>Bengkulu</td>\n",
       "      <td>70</td>\n",
       "      <td>ID</td>\n",
       "      <td>1580124720</td>\n",
       "      <td>88</td>\n",
       "      <td>-3.80</td>\n",
       "      <td>102.27</td>\n",
       "      <td>74.55</td>\n",
       "      <td>3.36</td>\n",
       "      <td>Hotel Santika Bengkulu</td>\n",
       "      <td>Hotel Santika Bengkulu</td>\n",
       "    </tr>\n",
       "    <tr>\n",
       "      <th>3</th>\n",
       "      <td>Kahului</td>\n",
       "      <td>20</td>\n",
       "      <td>US</td>\n",
       "      <td>1580098336</td>\n",
       "      <td>61</td>\n",
       "      <td>20.89</td>\n",
       "      <td>-156.47</td>\n",
       "      <td>78.80</td>\n",
       "      <td>9.17</td>\n",
       "      <td>Maui Seaside Hotel</td>\n",
       "      <td>Maui Seaside Hotel</td>\n",
       "    </tr>\n",
       "    <tr>\n",
       "      <th>4</th>\n",
       "      <td>Valparaiso</td>\n",
       "      <td>2</td>\n",
       "      <td>CL</td>\n",
       "      <td>1580082857</td>\n",
       "      <td>53</td>\n",
       "      <td>-33.04</td>\n",
       "      <td>-71.63</td>\n",
       "      <td>77.00</td>\n",
       "      <td>8.05</td>\n",
       "      <td>Hotel Casa Higueras</td>\n",
       "      <td>Hotel Casa Higueras</td>\n",
       "    </tr>\n",
       "  </tbody>\n",
       "</table>\n",
       "</div>"
      ],
      "text/plain": [
       "         City  Cloudiness Country        Date  Humidity    Lat     Lng  \\\n",
       "0     Cayenne          75      GF  1580074704        94   4.93  -52.33   \n",
       "1   Palembang          91      ID  1580124053        94  -2.92  104.75   \n",
       "2    Bengkulu          70      ID  1580124720        88  -3.80  102.27   \n",
       "3     Kahului          20      US  1580098336        61  20.89 -156.47   \n",
       "4  Valparaiso           2      CL  1580082857        53 -33.04  -71.63   \n",
       "\n",
       "   Max Temp  Wind Speed               Hotel Name                    Hotel  \n",
       "0     77.00        4.70            Hotel Central            Hotel Central  \n",
       "1     75.16        1.50  OYO 1299 Max To U Hotel  OYO 1299 Max To U Hotel  \n",
       "2     74.55        3.36   Hotel Santika Bengkulu   Hotel Santika Bengkulu  \n",
       "3     78.80        9.17       Maui Seaside Hotel       Maui Seaside Hotel  \n",
       "4     77.00        8.05      Hotel Casa Higueras      Hotel Casa Higueras  "
      ]
     },
     "execution_count": 16,
     "metadata": {},
     "output_type": "execute_result"
    }
   ],
   "source": [
    "city_data[\"Hotel\"] = \" \"\n",
    "base_url = 'https://maps.googleapis.com/maps/api/place/nearbysearch/json'\n",
    "params = {\n",
    "    \"rankby\": \"distance\",\n",
    "    \"name\": \"hotel\",\n",
    "    \"key\": g_key,}\n",
    "\n",
    "for i in range(0, len(city_data)):\n",
    "    lat = city_data.loc[i, \"Lat\"]\n",
    "    lng = city_data.loc[i, \"Lng\"]\n",
    "    params[\"location\"] = f'{lat},{lng}'\n",
    "    hotel = requests.get(base_url, params=params)\n",
    "    hotel = hotel.json()\n",
    "    try:\n",
    "        city_data.loc[i, \"Hotel\"] = hotel[\"results\"][0][\"name\"]\n",
    "    except (KeyError, IndexError):\n",
    "        print(\"Missing field/result...... Skipping.\")\n",
    "city_data.head()"
   ]
  },
  {
   "cell_type": "code",
   "execution_count": 17,
   "metadata": {},
   "outputs": [],
   "source": [
    "# NOTE: Do not change any of the code in this cell\n",
    "\n",
    "# Using the template add the hotel marks to the heatmap\n",
    "info_box_template = \"\"\"\n",
    "<dl>\n",
    "<dt>Name</dt><dd>{Hotel Name}</dd>\n",
    "<dt>City</dt><dd>{City}</dd>\n",
    "<dt>Country</dt><dd>{Country}</dd>\n",
    "</dl>\n",
    "\"\"\"\n",
    "# Store the DataFrame Row\n",
    "# NOTE: be sure to update with your DataFrame name\n",
    "hotel_info = [info_box_template.format(**row) for index, row in city_data.iterrows()]\n",
    "locations = city_data[[\"Lat\", \"Lng\"]]"
   ]
  },
  {
   "cell_type": "code",
   "execution_count": 18,
   "metadata": {},
   "outputs": [
    {
     "data": {
      "application/vnd.jupyter.widget-view+json": {
       "model_id": "dce750f69fb2437ca0d86fccd2184a92",
       "version_major": 2,
       "version_minor": 0
      },
      "text/plain": [
       "Figure(layout=FigureLayout(height='420px'))"
      ]
     },
     "metadata": {},
     "output_type": "display_data"
    }
   ],
   "source": [
    "# Add marker layer ontop of heat map\n",
    "fig = gmaps.figure()\n",
    "heat_layer = gmaps.heatmap_layer(locations, weights = city_data[\"Hotel\"], dissipating = False, \n",
    "                                 max_intensity = 100, point_radius = 1)\n",
    "fig.add_layer(heat_layer)\n",
    "fig\n",
    "\n",
    "\n",
    "# Display Map"
   ]
  },
  {
   "cell_type": "code",
   "execution_count": null,
   "metadata": {},
   "outputs": [],
   "source": []
  }
 ],
 "metadata": {
  "kernelspec": {
   "display_name": "Python 3",
   "language": "python",
   "name": "python3"
  },
  "language_info": {
   "codemirror_mode": {
    "name": "ipython",
    "version": 3
   },
   "file_extension": ".py",
   "mimetype": "text/x-python",
   "name": "python",
   "nbconvert_exporter": "python",
   "pygments_lexer": "ipython3",
   "version": "3.6.5"
  },
  "latex_envs": {
   "LaTeX_envs_menu_present": true,
   "autoclose": false,
   "autocomplete": true,
   "bibliofile": "biblio.bib",
   "cite_by": "apalike",
   "current_citInitial": 1,
   "eqLabelWithNumbers": true,
   "eqNumInitial": 1,
   "hotkeys": {
    "equation": "Ctrl-E",
    "itemize": "Ctrl-I"
   },
   "labels_anchors": false,
   "latex_user_defs": false,
   "report_style_numbering": false,
   "user_envs_cfg": false
  }
 },
 "nbformat": 4,
 "nbformat_minor": 2
}
